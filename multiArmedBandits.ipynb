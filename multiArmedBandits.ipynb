{
 "cells": [
  {
   "cell_type": "code",
   "execution_count": 308,
   "id": "28493cee",
   "metadata": {},
   "outputs": [],
   "source": [
    "import numpy as np\n",
    "import gym\n",
    "import gym_bandits\n",
    "import matplotlib.pyplot as plt"
   ]
  },
  {
   "cell_type": "code",
   "execution_count": 391,
   "id": "cc0043a5",
   "metadata": {},
   "outputs": [],
   "source": [
    "env = gym.make(\"BanditTenArmedGaussian-v0\")"
   ]
  },
  {
   "cell_type": "code",
   "execution_count": 396,
   "id": "8f6dee94",
   "metadata": {},
   "outputs": [
    {
     "data": {
      "text/plain": [
       "0"
      ]
     },
     "execution_count": 396,
     "metadata": {},
     "output_type": "execute_result"
    }
   ],
   "source": [
    "env.reset()"
   ]
  },
  {
   "cell_type": "code",
   "execution_count": 392,
   "id": "0f9ba547",
   "metadata": {},
   "outputs": [],
   "source": [
    "numrounds = 1000000\n",
    "count = np.zeros(10)\n",
    "sum_revards = np.zeros(10)\n",
    "Q = np.zeros(10)"
   ]
  },
  {
   "cell_type": "code",
   "execution_count": 393,
   "id": "382324fb",
   "metadata": {},
   "outputs": [],
   "source": [
    "revards = []\n",
    "revard1 = []\n",
    "totalrevard = 0"
   ]
  },
  {
   "cell_type": "markdown",
   "id": "ada191be",
   "metadata": {},
   "source": [
    "# Greedy Algorithm"
   ]
  },
  {
   "cell_type": "code",
   "execution_count": 313,
   "id": "7956047d",
   "metadata": {},
   "outputs": [],
   "source": [
    "def GreedyAlg():\n",
    "    if(Q.sum() == 0):\n",
    "        return env.action_space.sample()\n",
    "    return np.argmax(Q)"
   ]
  },
  {
   "cell_type": "code",
   "execution_count": 314,
   "id": "554c8d9e",
   "metadata": {},
   "outputs": [
    {
     "name": "stdout",
     "output_type": "stream",
     "text": [
      "the optimal arm is 7\n"
     ]
    }
   ],
   "source": [
    "for i in range(numrounds):\n",
    "    arm = GreedyAlg()\n",
    "    observation, revard,done,info = env.step(arm)\n",
    "    count[arm] += 1\n",
    "    sum_revards[arm] += revard\n",
    "    totalrevard += revard\n",
    "    if(i%1000==0):\n",
    "        revard1.append(totalrevard/1000)\n",
    "        totalrevard = 0\n",
    "    Q[arm] = sum_revards[arm]/count[arm]\n",
    "revards.append(revard1)\n",
    "revard1 = []\n",
    "print(\"the optimal arm is {}\".format(np.argmax(Q)))"
   ]
  },
  {
   "cell_type": "markdown",
   "id": "a41eb0fb",
   "metadata": {},
   "source": [
    "# Epsilon Greedy Algorithm"
   ]
  },
  {
   "cell_type": "code",
   "execution_count": 315,
   "id": "d30c32c2",
   "metadata": {},
   "outputs": [],
   "source": [
    "def epsilonGreedy(E = 0.001):\n",
    "    rand = np.random.random()\n",
    "    if(rand < E):\n",
    "        action = env.action_space.sample()\n",
    "    else:\n",
    "        action = np.argmax(Q)\n",
    "    return action"
   ]
  },
  {
   "cell_type": "code",
   "execution_count": 341,
   "id": "c0c973b8",
   "metadata": {},
   "outputs": [
    {
     "name": "stdout",
     "output_type": "stream",
     "text": [
      "the optimal arm is 5\n"
     ]
    }
   ],
   "source": [
    "for i in range(numrounds):\n",
    "    arm = epsilonGreedy(0.1)\n",
    "    observation, revard,done,info = env.step(arm)\n",
    "    count[arm] += 1\n",
    "    sum_revards[arm] += revard\n",
    "    totalrevard += revard\n",
    "    if(i%1000==0):\n",
    "        revard1.append(totalrevard/1000)\n",
    "        totalrevard = 0\n",
    "    Q[arm] = sum_revards[arm]/count[arm]\n",
    "revards.append(revard1)\n",
    "revard1 = []\n",
    "print(\"the optimal arm is {}\".format(np.argmax(Q)))"
   ]
  },
  {
   "cell_type": "markdown",
   "id": "43e4d9ee",
   "metadata": {},
   "source": [
    "# softmax Greedy"
   ]
  },
  {
   "cell_type": "code",
   "execution_count": 317,
   "id": "856a489d",
   "metadata": {},
   "outputs": [],
   "source": [
    "def softmaxEpsilonGreedy(T=0.5):\n",
    "    total = np.exp(Q/T).sum()\n",
    "    probs = np.exp(Q/T)/total\n",
    "    ran = np.random.random()\n",
    "    accum = 0.0\n",
    "    for i in range(len(probs)):\n",
    "        accum += probs[i]\n",
    "        if(accum > ran):\n",
    "            return i\n",
    "    return np.argmax(Q)"
   ]
  },
  {
   "cell_type": "code",
   "execution_count": 318,
   "id": "ca114ed2",
   "metadata": {},
   "outputs": [
    {
     "name": "stderr",
     "output_type": "stream",
     "text": [
      "C:\\Users\\edkar\\AppData\\Local\\Temp\\ipykernel_14944\\2795699998.py:2: RuntimeWarning: overflow encountered in exp\n",
      "  total = np.exp(Q/T).sum()\n",
      "C:\\Users\\edkar\\AppData\\Local\\Temp\\ipykernel_14944\\2795699998.py:3: RuntimeWarning: overflow encountered in exp\n",
      "  probs = np.exp(Q/T)/total\n",
      "C:\\Users\\edkar\\AppData\\Local\\Temp\\ipykernel_14944\\2795699998.py:3: RuntimeWarning: invalid value encountered in true_divide\n",
      "  probs = np.exp(Q/T)/total\n"
     ]
    },
    {
     "name": "stdout",
     "output_type": "stream",
     "text": [
      "the optimal arm is 5\n"
     ]
    }
   ],
   "source": [
    "for i in range(numrounds):\n",
    "    arm = softmaxEpsilonGreedy()\n",
    "    observation, revard,done,info = env.step(arm)\n",
    "    count[arm] += 1\n",
    "    sum_revards[arm] += revard\n",
    "    totalrevard += revard\n",
    "    if(i%1000==0):\n",
    "        revard1.append(totalrevard/1000)\n",
    "        totalrevard = 0\n",
    "    Q[arm] += sum_revards[arm]/count[arm]\n",
    "revards.append(revard1)\n",
    "revard1 = []\n",
    "print(\"the optimal arm is {}\".format(np.argmax(Q)))"
   ]
  },
  {
   "cell_type": "markdown",
   "id": "bf0b346d",
   "metadata": {},
   "source": [
    "# Greedy with upper bound"
   ]
  },
  {
   "cell_type": "code",
   "execution_count": 319,
   "id": "fb2e3e4f",
   "metadata": {},
   "outputs": [],
   "source": [
    "def GreeadyWithUpperBound(C, count, i):\n",
    "    return np.argmax((Q+C*np.sqrt(np.log(i+1)/(count+np.ones(10)))))"
   ]
  },
  {
   "cell_type": "code",
   "execution_count": 320,
   "id": "638f2f5d",
   "metadata": {},
   "outputs": [
    {
     "name": "stdout",
     "output_type": "stream",
     "text": [
      "the optimal arm is 5\n"
     ]
    }
   ],
   "source": [
    "for i in range(numrounds):\n",
    "    arm = GreeadyWithUpperBound(2,count,i)\n",
    "    observation, revard,done,info = env.step(arm)\n",
    "    count[arm] += 1\n",
    "    sum_revards[arm] += revard\n",
    "    totalrevard += revard\n",
    "    if(i%1000==0):\n",
    "        revard1.append(totalrevard/1000)\n",
    "        totalrevard = 0\n",
    "    Q[arm] = sum_revards[arm]/count[arm]\n",
    "revards.append(revard1)\n",
    "revard1 = []\n",
    "print(\"the optimal arm is {}\".format(np.argmax(Q)))"
   ]
  },
  {
   "cell_type": "code",
   "execution_count": 327,
   "id": "9c092e0f",
   "metadata": {},
   "outputs": [],
   "source": [
    "indexes = np.arange(1,len(revards[0])+1)"
   ]
  },
  {
   "cell_type": "code",
   "execution_count": 328,
   "id": "b13362e7",
   "metadata": {},
   "outputs": [
    {
     "data": {
      "text/plain": [
       "[<matplotlib.lines.Line2D at 0x16ddc6c7a60>,\n",
       " <matplotlib.lines.Line2D at 0x16ddc6c7be0>,\n",
       " <matplotlib.lines.Line2D at 0x16ddc6c7bb0>,\n",
       " <matplotlib.lines.Line2D at 0x16ddc6c7df0>]"
      ]
     },
     "execution_count": 328,
     "metadata": {},
     "output_type": "execute_result"
    },
    {
     "data": {
      "image/png": "[encoded data removed]",
      "text/plain": [
       "<Figure size 432x288 with 1 Axes>"
      ]
     },
     "metadata": {
      "needs_background": "light"
     },
     "output_type": "display_data"
    }
   ],
   "source": [
    "plt.plot(indexes,revards[0],'-',indexes,revards[1],'--', indexes,revards[2],'-.', indexes,revards[3],':')"
   ]
  },
  {
   "cell_type": "markdown",
   "id": "3c6552a0",
   "metadata": {},
   "source": [
    "# Gradient Algorithm"
   ]
  },
  {
   "cell_type": "code",
   "execution_count": 420,
   "id": "3461348a",
   "metadata": {},
   "outputs": [],
   "source": [
    "H = np.zeros(10)\n",
    "for i in range(10):\n",
    "    H[i] = 8\n",
    "Q = np.zeros(10)\n",
    "count = np.zeros(10)\n",
    "totalrevard = 0\n",
    "revard1 = []\n",
    "sum_revards = np.zeros(10)\n",
    "P = np.exp(H)/np.exp(H).sum()\n",
    "alpha = 0.005\n",
    "\n",
    "def GradientAlgorithm(H, E):\n",
    "    rand = np.random.random()\n",
    "    if(rand < E):\n",
    "        action = env.action_space.sample()\n",
    "    else:\n",
    "        action = np.argmax(H)\n",
    "    return action"
   ]
  },
  {
   "cell_type": "code",
   "execution_count": null,
   "id": "90d1a583",
   "metadata": {},
   "outputs": [],
   "source": []
  },
  {
   "cell_type": "code",
   "execution_count": 421,
   "id": "848a7037",
   "metadata": {},
   "outputs": [
    {
     "name": "stdout",
     "output_type": "stream",
     "text": [
      "the optimal arm is 7\n"
     ]
    }
   ],
   "source": [
    "for i in range(numrounds):\n",
    "    arm = GradientAlgorithm(H, 0.1)\n",
    "    observation, revard,done,info = env.step(arm)\n",
    "    count[arm] += 1\n",
    "    sum_revards[arm] += revard\n",
    "    \n",
    "    totalrevard += revard\n",
    "    if(i%1000==0):\n",
    "        revard1.append(totalrevard/1000)\n",
    "        totalrevard = 0\n",
    "    \n",
    "    Q[arm] = sum_revards[arm]/count[arm]\n",
    "    for j in range(10):\n",
    "        if(j == arm):\n",
    "            H[j] = H[j] + alpha*(revard - sum_revards.sum()/count.sum())*(1-P[j])\n",
    "        else:\n",
    "            H[j] = H[j] - alpha*(revard - sum_revards.sum()/count.sum())*P[j]\n",
    "    P = np.exp(H)/np.exp(H).sum()\n",
    "revards.append(revard1)\n",
    "revard1 = []\n",
    "print(\"the optimal arm is {}\".format(np.argmax(Q)))"
   ]
  },
  {
   "cell_type": "code",
   "execution_count": 423,
   "id": "1110ce45",
   "metadata": {},
   "outputs": [
    {
     "data": {
      "text/plain": [
       "[<matplotlib.lines.Line2D at 0x16de02b1c60>]"
      ]
     },
     "execution_count": 423,
     "metadata": {},
     "output_type": "execute_result"
    },
    {
     "data": {
      "image/png": "[encoded data removed]",
      "text/plain": [
       "<Figure size 432x288 with 1 Axes>"
      ]
     },
     "metadata": {
      "needs_background": "light"
     },
     "output_type": "display_data"
    }
   ],
   "source": [
    "plt.plot(revards[5])"
   ]
  },
  {
   "cell_type": "code",
   "execution_count": 401,
   "id": "6352ec97",
   "metadata": {},
   "outputs": [
    {
     "data": {
      "text/plain": [
       "0.6866035165480424"
      ]
     },
     "execution_count": 401,
     "metadata": {},
     "output_type": "execute_result"
    }
   ],
   "source": [
    "steps = []\n",
    "for i in range(100):\n",
    "    observation, revard,done,info = env.step(7)\n",
    "    steps.append(revard)\n",
    "np.array(steps).mean()"
   ]
  },
  {
   "cell_type": "code",
   "execution_count": null,
   "id": "f1f8e989",
   "metadata": {},
   "outputs": [],
   "source": []
  }
 ],
 "metadata": {
  "kernelspec": {
   "display_name": "Python 3 (ipykernel)",
   "language": "python",
   "name": "python3"
  },
  "language_info": {
   "codemirror_mode": {
    "name": "ipython",
    "version": 3
   },
   "file_extension": ".py",
   "mimetype": "text/x-python",
   "name": "python",
   "nbconvert_exporter": "python",
   "pygments_lexer": "ipython3",
   "version": "3.10.0"
  }
 },
 "nbformat": 4,
 "nbformat_minor": 5
}
